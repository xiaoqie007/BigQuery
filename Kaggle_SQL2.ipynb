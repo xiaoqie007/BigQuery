{
 "cells": [
  {
   "cell_type": "markdown",
   "metadata": {},
   "source": [
    "#### WITH ... AS\n",
    "- On its own, AS is a convenient way to clean up the data returned by your query. It's even more powerful when combined with WITH in what's called a \"common table expression\".\n",
    "\n",
    "- A common table expression (or CTE) is a temporary table that you return within your query. CTEs are helpful for splitting your queries into readable chunks, and you can write queries against them."
   ]
  },
  {
   "cell_type": "markdown",
   "metadata": {},
   "source": [
    "- Example: How many Bitcoin transactions are made per month?"
   ]
  },
  {
   "cell_type": "code",
   "execution_count": null,
   "metadata": {},
   "outputs": [],
   "source": [
    "from google.cloud import bigquery\n",
    "#Create a \"Client\" object\n",
    "client = bigquery.Client()\n",
    "#Construct a reference to the \"crypto_bitcoin\" dataset\n",
    "dataset_ref = client.dataset(\"crypto_bitcoin\", project = \"bigquery-public-data\")\n",
    "# API request - fetch the dataset\n",
    "dataset = client.get_dataset(dataset_ref)\n",
    "#Construct a reference to the \"transactions\" table\n",
    "table_ref = dataset_ref.table(\"transactions\")\n",
    "#API request - fetch the table\n",
    "table = client.get_table(table_ref)\n",
    "#Preview the first five lines of the \"transactions\" table\n",
    "client.list_rows(table, max_results = 5).to_dataframe()"
   ]
  },
  {
   "cell_type": "code",
   "execution_count": null,
   "metadata": {},
   "outputs": [],
   "source": [
    "Using Kaggle's public dataset BigQuery integration."
   ]
  },
  {
   "cell_type": "code",
   "execution_count": null,
   "metadata": {},
   "outputs": [],
   "source": [
    "# Query to select the number of transactions per date, sorted by date\n",
    "query_with_CTE = \"\"\"\n",
    "                 WITH time AS\n",
    "                 (\n",
    "                     SELECT DATE(block_timestamp) AS trans_date\n",
    "                     FROM `bigquery-public-data.crypto_bitcoin.transactions`\n",
    "                 )\n",
    "                 SELECT COUNT(1) AS transactions,\n",
    "                        trans_date\n",
    "                 FROM time\n",
    "                 GROUP BY trans_date\n",
    "                 ORDER BY trans_date\n",
    "                 \"\"\"\n"
   ]
  },
  {
   "cell_type": "code",
   "execution_count": null,
   "metadata": {},
   "outputs": [],
   "source": [
    "#Set up the query(cancel the query if it would use too much of your\n",
    "# quota, with the limit set to 10 GB)\n",
    "safe_config = bigquery.QueryJobConfig(maximum_bytes_biled= 10**10)\n",
    "query_job = client.query(query_with_CTE, job_config = safe_config)\n",
    "# API request - run the query, and convert the results to a pandas DataFrame\n",
    "transactions_by_date = query_job.to_dataframe()\n",
    "#Print the first five rows\n",
    "transactions_by_date.head()"
   ]
  },
  {
   "cell_type": "code",
   "execution_count": null,
   "metadata": {},
   "outputs": [],
   "source": [
    "#Since they're returned sorted, we can easily plot the raw results to \n",
    "#show us the number of Bitcoin transactions per day over the whole timespan\n",
    "#of this dataset."
   ]
  },
  {
   "cell_type": "code",
   "execution_count": null,
   "metadata": {},
   "outputs": [],
   "source": [
    "transactions_by_date.set_index('trans_date').plot()"
   ]
  },
  {
   "cell_type": "code",
   "execution_count": null,
   "metadata": {},
   "outputs": [],
   "source": [
    "#As you can see, common table expressions (CTEs) \n",
    "#let you shift a lot of your data cleaning into SQL. \n",
    "#That's an especially good thing in the case of BigQuery, \n",
    "#because it is vastly faster than doing the work in Pandas."
   ]
  }
 ],
 "metadata": {
  "kernelspec": {
   "display_name": "Python 3",
   "language": "python",
   "name": "python3"
  },
  "language_info": {
   "codemirror_mode": {
    "name": "ipython",
    "version": 3
   },
   "file_extension": ".py",
   "mimetype": "text/x-python",
   "name": "python",
   "nbconvert_exporter": "python",
   "pygments_lexer": "ipython3",
   "version": "3.7.1"
  }
 },
 "nbformat": 4,
 "nbformat_minor": 2
}
