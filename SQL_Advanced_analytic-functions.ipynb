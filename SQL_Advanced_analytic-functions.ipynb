{
 "cells": [
  {
   "cell_type": "code",
   "execution_count": null,
   "metadata": {},
   "outputs": [],
   "source": [
    "query= \"\"\"\n",
    "       SELECT*\n",
    "           AVG(time)OVER(\n",
    "                        PARTITION BY id\n",
    "                        ORDER BY date\n",
    "                        ROWS BETWEEN 1 PRECEDING AND CURRENT ROW\n",
    "                        )as avg_time\n",
    "        FROM 'bigquery-public-data.runners.train_time'\n",
    "       \"\"\""
   ]
  },
  {
   "cell_type": "markdown",
   "metadata": {},
   "source": [
    "All analytic functions have an **OVER** clause, which defines the sets of rows used in each calculation. The OVER clause has three (optional) parts:\n",
    "\n",
    " - The **PARTITION BY** clause divides the rows of the table into different groups. In the query above, we divide by id so that the calculations are separated by runner.\n",
    "\n",
    " - The **ORDER BY** clause defines an ordering within each partition. In the sample query, ordering by the date column ensures that earlier training sessions appear first.\n",
    " \n",
    " - The final clause (ROWS BETWEEN 1 PRECEDING AND CURRENT ROW) is known as a **window frame** clause. It identifies the set of rows used in each calculation. We can refer to this group of rows as a **window**. (Actually, analytic functions are sometimes referred to as **analytic window functions** or simply **window functions**!)"
   ]
  },
  {
   "cell_type": "markdown",
   "metadata": {},
   "source": [
    "![windom function](wind_fun_image.png)"
   ]
  },
  {
   "cell_type": "markdown",
   "metadata": {},
   "source": [
    "**(More on) Window frame clauses**"
   ]
  },
  {
   "cell_type": "markdown",
   "metadata": {},
   "source": [
    "- `ROWS BETWEEN 1 PRECEDING AND CURRENT ROW` - the previous row and the current row.\n",
    "- `ROWS BETWEEN 3 PRECENDING AND 1 FOLLOWING` - the 3 previous rows, the current row,and the following row\n",
    "- `ROWS BETWEEN UNBOUNDED PRECEDING AND UNBOUNDED FOLLOWING` - all rows in the partition."
   ]
  },
  {
   "cell_type": "markdown",
   "metadata": {},
   "source": [
    "Of course, this is not an exhaustive list, and you can imagine that there are many more options! In the code below, you'll see some of these clauses in action."
   ]
  },
  {
   "cell_type": "markdown",
   "metadata": {},
   "source": [
    "### Three types of analytic functions"
   ]
  },
  {
   "cell_type": "markdown",
   "metadata": {},
   "source": [
    "for a complete listing, you can take a look at the [documentation](https://cloud.google.com/bigquery/docs/reference/standard-sql/analytic-function-concepts)"
   ]
  },
  {
   "cell_type": "markdown",
   "metadata": {},
   "source": [
    "**1) Analytic aggregate functions**\n",
    "\n",
    "  - **MIN()**(or **MAX()**) - Returns the minimum(or maximum) of input values\n",
    "  - **AVG()**(or**SUM()**)  - Returns the average(or sum) of input values\n",
    "  - **COUNT()** - Return the number of rows in the input"
   ]
  },
  {
   "cell_type": "markdown",
   "metadata": {},
   "source": [
    "**2) Analytic navigation functions**\n",
    " **Navigation Functions** assign a value based on the value in a (usually) different row than the current row.\n",
    " - **FIRST_VALUE()**(or **LAST_VALUE()**) - Returns the first (or last) value in the input.\n",
    " - **LEAD()(andLAG())** -Returns the value on a subsequent(or preceding) row"
   ]
  },
  {
   "cell_type": "markdown",
   "metadata": {},
   "source": [
    "**3)Analytic numbering functions**\n",
    " - **ROW_NUMBER()** - Return the order in which rows appear in the input(starting with `1`)\n",
    " - **RANK()** - ALL rows with the same value in the ordering column receive the same rank value, where the next row receives a rank value which increments by the number of rows with the previous rank value."
   ]
  },
  {
   "cell_type": "code",
   "execution_count": null,
   "metadata": {},
   "outputs": [],
   "source": []
  }
 ],
 "metadata": {
  "kernelspec": {
   "display_name": "Python 3",
   "language": "python",
   "name": "python3"
  },
  "language_info": {
   "codemirror_mode": {
    "name": "ipython",
    "version": 3
   },
   "file_extension": ".py",
   "mimetype": "text/x-python",
   "name": "python",
   "nbconvert_exporter": "python",
   "pygments_lexer": "ipython3",
   "version": "3.7.1"
  }
 },
 "nbformat": 4,
 "nbformat_minor": 2
}
