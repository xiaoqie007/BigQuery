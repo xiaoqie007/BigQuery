{
 "cells": [
  {
   "cell_type": "code",
   "execution_count": null,
   "metadata": {},
   "outputs": [],
   "source": []
  },
  {
   "cell_type": "code",
   "execution_count": null,
   "metadata": {},
   "outputs": [],
   "source": [
    "data = {'Apples': 20,'Bananas': 30}\n",
    "fruit = pd.DataFrame(data, columns=['Apples', 'Bananas'], index = ['one'])\n",
    "fruit\n",
    "\n",
    "fruits = pd.DataFrame([[30,21]], columns=['Apples', 'Bananas'])\n",
    "q1.check()\n",
    "fruits\n",
    "\n",
    "# Your code goes here. Create a dataframe matching the above diagram and assign it to the variable fruit_sales.\n",
    "data = {'Apples': [35, 41], 'Bananas': [21, 34]}\n",
    "fruit_sales = pd.DataFrame(data, columns= ['Apples', 'Bananas'], index = ['2017 Sales', '2018 Sales'])\n",
    "\n",
    "#fruit_sales = pd.DataFrame([[35,21],[41, 34]], columns= ['Apples', 'Bananas'],\n",
    "#                           index = ['2017 Sales', '2018 Sales'])\n",
    "\n",
    "\n",
    "ingredients = pd.Series(['4 cups', '1 cup', '2 large', '1 can'],\n",
    "                        index = ['Flour', 'Milk', 'Eggs', 'Spam'],\n",
    "                       name = 'Dinner')\n",
    "\n",
    "#quantities = ['4 cups', '1 cup', '2 large', '1 can']\n",
    "#items = ['Flour', 'Milk', 'Eggs', 'Spam']\n",
    "#recipe = pd.Series(quantities, index=items, name='Dinner')\n",
    "\n",
    "\n",
    "reviews = pd.read_csv('../input/wine-reviews/winemag-data_first150k.csv', index_col= 0)\n",
    "\n",
    "\n",
    "animals = pd.DataFrame({'Cows': [12, 20], 'Goats': [22, 19]}, index=['Year 1', 'Year 2'])\n",
    "animals\n",
    "\n",
    "animals.to_csv('cows_and_goats.csv')\n",
    "\n",
    "import sqlite3\n",
    "coon= sqlite3.connect(\"../input/pitchfork-data/database.sqlite\")\n",
    "music_reviews = pd.read_sql_query(\"SELECT* FROM artists\", coon)\n"
   ]
  },
  {
   "cell_type": "code",
   "execution_count": null,
   "metadata": {},
   "outputs": [],
   "source": [
    "#Exercise: Indexing, Selecting & Assigning"
   ]
  }
 ],
 "metadata": {
  "kernelspec": {
   "display_name": "Python 3",
   "language": "python",
   "name": "python3"
  },
  "language_info": {
   "codemirror_mode": {
    "name": "ipython",
    "version": 3
   },
   "file_extension": ".py",
   "mimetype": "text/x-python",
   "name": "python",
   "nbconvert_exporter": "python",
   "pygments_lexer": "ipython3",
   "version": "3.7.1"
  }
 },
 "nbformat": 4,
 "nbformat_minor": 2
}
