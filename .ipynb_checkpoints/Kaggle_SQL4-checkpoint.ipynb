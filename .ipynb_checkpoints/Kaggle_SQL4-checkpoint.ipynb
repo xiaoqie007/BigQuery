{
 "cells": [
  {
   "cell_type": "code",
   "execution_count": null,
   "metadata": {},
   "outputs": [],
   "source": [
    "#The first table is the *licenses* table\n",
    "\n",
    "from google.cloud import bigquery\n",
    "# Create a \"Client\" object\n",
    "client = bigquery.Client()\n",
    "#Construct a reference to the \"github_repos\" dataset\n",
    "dataset_ref = client.dataset(\"github_repos\", project= \"bigquery-pubilc-data\")\n",
    "#API request - fetch the dataset\n",
    "dataset = client.get_dataset(dataset_ref)\n",
    "# Construct a reference to the \"licenses\" table\n",
    "licenses_ref = dataset_ref.table(\"licenses\")\n",
    "# API request - fetch the table\n",
    "licenses_table = client.get_table(licenses_ref)\n",
    "# Preview the first five lines of the \"licenses\" table\n",
    "client.list_rows(licenses_table, max_results= 5).to_dataframe()"
   ]
  },
  {
   "cell_type": "code",
   "execution_count": null,
   "metadata": {},
   "outputs": [],
   "source": [
    "#The second table is the *sample_files* table\n",
    "files_ref = dataseet_ref.table(\"sample_files\")\n",
    "#API request - fetch the table\n",
    "files_table = client.gettable(files_ref)\n",
    "#Preview the first five lines of the \"sample_files\" table\n",
    "client.list_rows(files_table, max_results = 5).to_dataframe()"
   ]
  },
  {
   "cell_type": "code",
   "execution_count": null,
   "metadata": {},
   "outputs": [],
   "source": [
    "#Next, we write a query that uses information in both tables to determine \n",
    "#how many files are released in each license."
   ]
  },
  {
   "cell_type": "code",
   "execution_count": null,
   "metadata": {},
   "outputs": [],
   "source": [
    "# Query to determine the number of files per license, sorted by number of files\n",
    "query = \"\"\"\n",
    "        SELECT L.license, COUNT(1) AS number_of_files\n",
    "        FROM `bigquery-public-data.github_repos.sample_files` AS sf\n",
    "        INTER JOIN `bigquery-public-data.github_repos.licenses` AS L\n",
    "                  ON sf.repo_name = L.repo_name\n",
    "                  \n",
    "        GROUP BY L.license\n",
    "        ORDER BY number_of_files DESC\n",
    "        \"\"\""
   ]
  },
  {
   "cell_type": "code",
   "execution_count": null,
   "metadata": {},
   "outputs": [],
   "source": [
    "# Set up the query(cancel the query if it would use too much of \n",
    "#your quota, with the limit set to 10 GB)\n",
    "safe_config = bigquery.QueryJobConfig(maximum_bytes_billed = 10**10)\n",
    "query_job = client.query(query, job_config = safe_config)\n",
    "\n",
    "#API request - run the query, and convert the results to a pandas DataFrame\n",
    "file_count_by_license = query_job.to_dataframe()\n"
   ]
  },
  {
   "cell_type": "code",
   "execution_count": null,
   "metadata": {},
   "outputs": [],
   "source": [
    "# it was a big query, but it give us a nice table summarizing how many fiels have been \n",
    "# committed under each license:"
   ]
  },
  {
   "cell_type": "code",
   "execution_count": null,
   "metadata": {},
   "outputs": [],
   "source": [
    "# Print the DataFrame\n",
    "file_count_by_license"
   ]
  },
  {
   "cell_type": "markdown",
   "metadata": {},
   "source": [
    "**You'll use *join* clauses a lot and get very efficient with them as you get some practice.**"
   ]
  }
 ],
 "metadata": {
  "kernelspec": {
   "display_name": "Python 3",
   "language": "python",
   "name": "python3"
  },
  "language_info": {
   "codemirror_mode": {
    "name": "ipython",
    "version": 3
   },
   "file_extension": ".py",
   "mimetype": "text/x-python",
   "name": "python",
   "nbconvert_exporter": "python",
   "pygments_lexer": "ipython3",
   "version": "3.7.1"
  }
 },
 "nbformat": 4,
 "nbformat_minor": 2
}
