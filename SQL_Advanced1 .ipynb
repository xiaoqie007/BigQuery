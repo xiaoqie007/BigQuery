{
 "cells": [
  {
   "cell_type": "markdown",
   "metadata": {},
   "source": [
    "### Advanced SQL"
   ]
  },
  {
   "cell_type": "markdown",
   "metadata": {},
   "source": [
    "**JOINs**"
   ]
  },
  {
   "cell_type": "markdown",
   "metadata": {},
   "source": [
    "```python\n",
    "query = \"\"\"\n",
    "        SELECT o.Name AS Ower_Name, p.Name AS Pet_Name\n",
    "        FROM '...owners' AS o\n",
    "        INNER JOIN'....pets'AS p\n",
    "        ON p.ID = o.Pet_ID\n",
    "        \"\"\"\n",
    "```"
   ]
  },
  {
   "cell_type": "markdown",
   "metadata": {},
   "source": [
    "**INTER/LEFT/RIGHT/FULL JOIN**"
   ]
  },
  {
   "cell_type": "markdown",
   "metadata": {},
   "source": [
    "**UNIONs**"
   ]
  },
  {
   "cell_type": "markdown",
   "metadata": {},
   "source": [
    "**Note that with a UNION, the data types of bith columns must be the same, but the columns names can de different**"
   ]
  },
  {
   "cell_type": "markdown",
   "metadata": {},
   "source": [
    "```python\n",
    "qyery = '''\n",
    "        SELECT Age FROM '...pets'\n",
    "        UNION ALL\n",
    "        SELECT Age From '...owners'\n",
    "        '''\n",
    "```"
   ]
  },
  {
   "cell_type": "markdown",
   "metadata": {},
   "source": [
    "**UNION ALL/DISTINCT**"
   ]
  },
  {
   "cell_type": "code",
   "execution_count": null,
   "metadata": {},
   "outputs": [],
   "source": []
  },
  {
   "cell_type": "markdown",
   "metadata": {},
   "source": [
    "### Example"
   ]
  },
  {
   "cell_type": "markdown",
   "metadata": {},
   "source": [
    "We'll work with the Hacker News dataset. We begin by reviewing the first several rows of the comments table."
   ]
  },
  {
   "cell_type": "markdown",
   "metadata": {},
   "source": [
    "```python\n",
    "from google.cloud import bigquery\n",
    "\n",
    "# Create a \"Client\" object\n",
    "client = bigquery.Client()\n",
    "\n",
    "# Construct a reference to the \"hacker_news\" dataset\n",
    "dataset_ref = client.dataset(\"hacker_news\", project=\"bigquery-public-data\")\n",
    "\n",
    "# API request - fetch the dataset\n",
    "dataset = client.get_dataset(dataset_ref)\n",
    "\n",
    "# Construct a reference to the \"comments\" table\n",
    "table_ref = dataset_ref.table(\"comments\")\n",
    "\n",
    "# API request - fetch the table\n",
    "table = client.get_table(table_ref)\n",
    "\n",
    "# Preview the first five lines of the table\n",
    "client.list_rows(table, max_results=5).to_dataframe()\n",
    "```"
   ]
  },
  {
   "cell_type": "markdown",
   "metadata": {},
   "source": [
    "You'll also work with the stories table."
   ]
  },
  {
   "cell_type": "markdown",
   "metadata": {},
   "source": [
    "```python\n",
    "# Construct a reference to the \"stories\" table\n",
    "table_ref = dataset_ref.table(\"stories\")\n",
    "\n",
    "# API request - fetch the table\n",
    "table = client.get_table(table_ref)\n",
    "\n",
    "# Preview the first five lines of the table\n",
    "client.list_rows(table, max_results=5).to_dataframe()\n",
    "```"
   ]
  },
  {
   "cell_type": "markdown",
   "metadata": {},
   "source": [
    "```python\n",
    "# Query to select all stories posted on January 1, 2012, with number of comments\n",
    "join_query= \"\"\"\n",
    "            WITH c AS\n",
    "            (\n",
    "            SELECT parent, COUNT(*) as num_comments\n",
    "            FROM '...comments'\n",
    "            GROUP BY parent\n",
    "            )\n",
    "            SELECT s.id as story_id, s.by, s.title, c.num_comments\n",
    "            FROM '...stories' AS s\n",
    "            LEFT JOIN c\n",
    "            ON s.id = c.parent\n",
    "            WHERE EXTRACT(DATE FROM s.time_ts) = '2012-01-01'\n",
    "            ORDER BY c.num_comments DESC\n",
    "            \"\"\"\n",
    "\n",
    "#Run the query, and return a pandas DataFrame\n",
    "join_result = client.query(join_query).result().to_dataframe()\n",
    "join_result.head()\n",
    "\n",
    "```"
   ]
  },
  {
   "cell_type": "code",
   "execution_count": null,
   "metadata": {},
   "outputs": [],
   "source": []
  }
 ],
 "metadata": {
  "kernelspec": {
   "display_name": "Python 3",
   "language": "python",
   "name": "python3"
  },
  "language_info": {
   "codemirror_mode": {
    "name": "ipython",
    "version": 3
   },
   "file_extension": ".py",
   "mimetype": "text/x-python",
   "name": "python",
   "nbconvert_exporter": "python",
   "pygments_lexer": "ipython3",
   "version": "3.7.1"
  }
 },
 "nbformat": 4,
 "nbformat_minor": 2
}
