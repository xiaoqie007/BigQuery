{
 "cells": [
  {
   "cell_type": "markdown",
   "metadata": {},
   "source": [
    "* groupby and sort(sort_values) reference\n",
    "* Data types and missing data reference"
   ]
  },
  {
   "cell_type": "markdown",
   "metadata": {},
   "source": [
    "One peculiarity to keep in mind (and on display very clearly here) is that:\n",
    ">columns consisting entirely of strings do not get their own type; they are instead given the object type."
   ]
  },
  {
   "cell_type": "code",
   "execution_count": null,
   "metadata": {},
   "outputs": [],
   "source": [
    "pd.dtype()\n",
    "pd.astype()\n",
    "pd.isnull() \n",
    "#missing_price = reviews[reviews.price.isnull()]\n",
    "pd.fillna()\n",
    "pd.replace('a', 'b')#from 'a' re_to 'b'\n",
    "value_counts()\n",
    "sort_values()\n"
   ]
  },
  {
   "cell_type": "markdown",
   "metadata": {},
   "source": [
    "Renaming and combining reference"
   ]
  },
  {
   "cell_type": "markdown",
   "metadata": {},
   "source": [
    "- rename"
   ]
  },
  {
   "cell_type": "code",
   "execution_count": null,
   "metadata": {},
   "outputs": [],
   "source": [
    "pd.rename(columns= {'A': 'B'})\n",
    "pd.rename(index = {0: 'firstEntry', 1: 'secondEntry'})\n",
    "pd.rename_axis(\"wine\", axis= 'rows').rename_axis(\"fields\", axis= 'columns')"
   ]
  },
  {
   "cell_type": "markdown",
   "metadata": {},
   "source": [
    "- combining\n",
    "\n",
    "**concat, join , merge**\n",
    "\n",
    "Most of what merge can do can also be done more simply with join, so I will omit it and focus on the first two functions here."
   ]
  },
  {
   "cell_type": "code",
   "execution_count": null,
   "metadata": {},
   "outputs": [],
   "source": [
    "pd.concat([pd1, pd2])\n",
    "pd1.join(pd2, lsuffix= '_CAN', rsuffix= '_UK')"
   ]
  }
 ],
 "metadata": {
  "kernelspec": {
   "display_name": "Python 3",
   "language": "python",
   "name": "python3"
  },
  "language_info": {
   "codemirror_mode": {
    "name": "ipython",
    "version": 3
   },
   "file_extension": ".py",
   "mimetype": "text/x-python",
   "name": "python",
   "nbconvert_exporter": "python",
   "pygments_lexer": "ipython3",
   "version": "3.7.1"
  }
 },
 "nbformat": 4,
 "nbformat_minor": 2
}
