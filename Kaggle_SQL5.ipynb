{
 "cells": [
  {
   "cell_type": "markdown",
   "metadata": {},
   "source": [
    "#pandas 读取SQL数据库文件\n",
    "This exercise is optional. Read the following SQL data into a DataFrame called `music_reviews`:\n",
    "\n",
    "![](https://i.imgur.com/mmvbOT3.png)\n",
    "\n",
    "The filepath is `../input/pitchfork-data/database.sqlite`. Hint: use the `sqlite3` library. The name of the table is `artists`."
   ]
  },
  {
   "cell_type": "code",
   "execution_count": null,
   "metadata": {},
   "outputs": [],
   "source": [
    "import sqlite3  #引入sqlite3\n",
    "coon= sqlite3.connect(\"../input/pitchfork-data/database.sqlite\")   #用sqlite3连接到数据库文件\n",
    "music_reviews = pd.read_sql_query(\"SELECT* FROM artists\", coon)   #pd.read_sql_query(select, coon)\n",
    "\n",
    "\n",
    "music_reviews"
   ]
  }
 ],
 "metadata": {
  "kernelspec": {
   "display_name": "Python 3",
   "language": "python",
   "name": "python3"
  },
  "language_info": {
   "codemirror_mode": {
    "name": "ipython",
    "version": 3
   },
   "file_extension": ".py",
   "mimetype": "text/x-python",
   "name": "python",
   "nbconvert_exporter": "python",
   "pygments_lexer": "ipython3",
   "version": "3.7.1"
  }
 },
 "nbformat": 4,
 "nbformat_minor": 2
}
